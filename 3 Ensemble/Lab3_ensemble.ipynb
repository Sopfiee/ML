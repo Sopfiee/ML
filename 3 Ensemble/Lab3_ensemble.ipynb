{
 "cells": [
  {
   "cell_type": "code",
   "execution_count": 1,
   "id": "86c8eeeb",
   "metadata": {},
   "outputs": [],
   "source": [
    "import pandas as pd\n",
    "import numpy as np\n",
    "from sklearn.datasets import make_blobs\n",
    "import matplotlib.pyplot as plt\n",
    "\n",
    "from sklearn.tree import DecisionTreeClassifier\n",
    "from sklearn.linear_model import LogisticRegression\n",
    "from sklearn.model_selection import cross_val_score, train_test_split\n",
    "from sklearn.ensemble import RandomForestClassifier, VotingClassifier, BaggingClassifier\n",
    "from sklearn.ensemble import RandomForestRegressor, VotingRegressor, BaggingRegressor\n",
    "from sklearn.naive_bayes import GaussianNB"
   ]
  },
  {
   "cell_type": "code",
   "execution_count": 2,
   "id": "86ef2061",
   "metadata": {},
   "outputs": [
    {
     "name": "stdout",
     "output_type": "stream",
     "text": [
      "Requirement already satisfied: xgboost in d:\\anac\\lib\\site-packages (1.7.5)\n",
      "Requirement already satisfied: scipy in d:\\anac\\lib\\site-packages (from xgboost) (1.9.1)\n",
      "Requirement already satisfied: numpy in d:\\anac\\lib\\site-packages (from xgboost) (1.21.5)\n"
     ]
    }
   ],
   "source": [
    "!pip install xgboost"
   ]
  },
  {
   "cell_type": "code",
   "execution_count": 7,
   "id": "1a8846dc",
   "metadata": {},
   "outputs": [
    {
     "name": "stdout",
     "output_type": "stream",
     "text": [
      "Requirement already satisfied: catboost in d:\\anac\\lib\\site-packages (1.2)\n",
      "Requirement already satisfied: plotly in d:\\anac\\lib\\site-packages (from catboost) (5.9.0)\n",
      "Requirement already satisfied: six in d:\\anac\\lib\\site-packages (from catboost) (1.16.0)\n",
      "Requirement already satisfied: graphviz in d:\\anac\\lib\\site-packages (from catboost) (0.20.1)\n",
      "Requirement already satisfied: scipy in d:\\anac\\lib\\site-packages (from catboost) (1.9.1)\n",
      "Requirement already satisfied: matplotlib in d:\\anac\\lib\\site-packages (from catboost) (3.5.2)\n",
      "Requirement already satisfied: numpy>=1.16.0 in d:\\anac\\lib\\site-packages (from catboost) (1.21.5)\n",
      "Requirement already satisfied: pandas>=0.24 in d:\\anac\\lib\\site-packages (from catboost) (1.4.4)\n",
      "Requirement already satisfied: pytz>=2020.1 in d:\\anac\\lib\\site-packages (from pandas>=0.24->catboost) (2022.1)\n",
      "Requirement already satisfied: python-dateutil>=2.8.1 in d:\\anac\\lib\\site-packages (from pandas>=0.24->catboost) (2.8.2)\n",
      "Requirement already satisfied: fonttools>=4.22.0 in d:\\anac\\lib\\site-packages (from matplotlib->catboost) (4.25.0)\n",
      "Requirement already satisfied: kiwisolver>=1.0.1 in d:\\anac\\lib\\site-packages (from matplotlib->catboost) (1.4.2)\n",
      "Requirement already satisfied: cycler>=0.10 in d:\\anac\\lib\\site-packages (from matplotlib->catboost) (0.11.0)\n",
      "Requirement already satisfied: pyparsing>=2.2.1 in d:\\anac\\lib\\site-packages (from matplotlib->catboost) (3.0.9)\n",
      "Requirement already satisfied: pillow>=6.2.0 in d:\\anac\\lib\\site-packages (from matplotlib->catboost) (9.2.0)\n",
      "Requirement already satisfied: packaging>=20.0 in d:\\anac\\lib\\site-packages (from matplotlib->catboost) (21.3)\n",
      "Requirement already satisfied: tenacity>=6.2.0 in d:\\anac\\lib\\site-packages (from plotly->catboost) (8.0.1)\n"
     ]
    }
   ],
   "source": [
    "!pip install catboost"
   ]
  },
  {
   "cell_type": "code",
   "execution_count": 8,
   "id": "88df05d7",
   "metadata": {},
   "outputs": [],
   "source": [
    "import xgboost as xgb\n",
    "from catboost import CatBoostClassifier"
   ]
  },
  {
   "cell_type": "code",
   "execution_count": 9,
   "id": "ced3b174",
   "metadata": {},
   "outputs": [
    {
     "name": "stdout",
     "output_type": "stream",
     "text": [
      "<class 'pandas.core.frame.DataFrame'>\n",
      "RangeIndex: 2111 entries, 0 to 2110\n",
      "Data columns (total 22 columns):\n",
      " #   Column          Non-Null Count  Dtype  \n",
      "---  ------          --------------  -----  \n",
      " 0   SCC_no          2111 non-null   float64\n",
      " 1   SCC_yes         2111 non-null   float64\n",
      " 2   SMOKE_no        2111 non-null   float64\n",
      " 3   SMOKE_yes       2111 non-null   float64\n",
      " 4   FAVC_no         2111 non-null   float64\n",
      " 5   FAVC_yes        2111 non-null   float64\n",
      " 6   fam_his_ow_no   2111 non-null   float64\n",
      " 7   fam_his_ow_yes  2111 non-null   float64\n",
      " 8   Gender_Female   2111 non-null   float64\n",
      " 9   Gender_Male     2111 non-null   float64\n",
      " 10  Age             2111 non-null   float64\n",
      " 11  Height          2111 non-null   float64\n",
      " 12  Weight          2111 non-null   float64\n",
      " 13  FCVC            2111 non-null   float64\n",
      " 14  NCP             2111 non-null   float64\n",
      " 15  CAEC            2111 non-null   float64\n",
      " 16  CH2O            2111 non-null   float64\n",
      " 17  FAF             2111 non-null   float64\n",
      " 18  TUE             2111 non-null   float64\n",
      " 19  CALC            2111 non-null   float64\n",
      " 20  MTRANS          2111 non-null   float64\n",
      " 21  NObeyesdad      2111 non-null   float64\n",
      "dtypes: float64(22)\n",
      "memory usage: 363.0 KB\n",
      "None\n"
     ]
    }
   ],
   "source": [
    "#как в первой лабораторной, преобразуем датасет\n",
    "df = pd.read_csv('ObesityDataSet_raw_and_data_sinthetic.csv', sep=',')\n",
    "# print(df.info())\n",
    "\n",
    "df = pd.concat([pd.get_dummies(df['Gender'], prefix='Gender', dtype='float64'), df], axis=1)\n",
    "df.drop(\"Gender\", axis=1, inplace=True)\n",
    "# print(df.info())\n",
    "\n",
    "# print(df['family_history_with_overweight'].value_counts())\n",
    "df = pd.concat([pd.get_dummies(df['family_history_with_overweight'], prefix='fam_his_ow', dtype='float64'), df], axis=1)\n",
    "df.drop(\"family_history_with_overweight\", axis=1, inplace=True)\n",
    "# print(df.info())\n",
    "# print(df['FAVC'].value_counts())\n",
    "\n",
    "df = pd.concat([pd.get_dummies(df['FAVC'], prefix='FAVC', dtype='float64'), df], axis=1)\n",
    "df.drop(\"FAVC\", axis=1, inplace=True)\n",
    "# print(df.info())\n",
    "\n",
    "# print(df['CAEC'].value_counts())\n",
    "df[\"CAEC\"] = df[\"CAEC\"].map({\"Sometimes\": 1.0, \"Frequently\": 2, \"Always\": 3, \"no\": 0})\n",
    "# print(df['CAEC'].value_counts())\n",
    "# print(df.info())\n",
    "\n",
    "\n",
    "# print(df['SMOKE'].value_counts())\n",
    "df = pd.concat([pd.get_dummies(df['SMOKE'], prefix='SMOKE', dtype='float64'), df], axis=1)\n",
    "df.drop(\"SMOKE\", axis=1, inplace=True)\n",
    "# print(df.info())\n",
    "\n",
    "# print(df['SCC'].value_counts())\n",
    "df = pd.concat([pd.get_dummies(df['SCC'], prefix='SCC', dtype='float64'), df], axis=1)\n",
    "df.drop(\"SCC\", axis=1, inplace=True)\n",
    "# print(df.info())\n",
    "\n",
    "# print(df['CALC'].value_counts())\n",
    "df[\"CALC\"] = df[\"CALC\"].map({\"Sometimes\": 1.0, \"Frequently\": 2, \"Always\": 3, \"no\": 0})\n",
    "# print(df.info())\n",
    "\n",
    "# print(df['MTRANS'].value_counts())\n",
    "df[\"MTRANS\"] = df[\"MTRANS\"].map(\n",
    "    {\"Public_Transportation\": 0.0, \"Automobile\": 1, \"Walking\": 2, \"Motorbike\": 3, \"Bike\": 4})\n",
    "# print(df.info())\n",
    "\n",
    "# print(df['NObeyesdad'].value_counts())\n",
    "df[\"NObeyesdad\"] = df[\"NObeyesdad\"].map(\n",
    "    {\"Obesity_Type_I\": 4,  # тип ожирения\n",
    "     \"Obesity_Type_II\": 5,\n",
    "     \"Obesity_Type_III\": 6,\n",
    "     \"Overweight_Level_I\": 2,  # Уровень избыточного веса\n",
    "     \"Overweight_Level_II\": 3,\n",
    "     \"Normal_Weight\": 1,\n",
    "     \"Insufficient_Weight\": 0.0})  # недостаточный вес\n",
    "\n",
    "print(df.info())"
   ]
  },
  {
   "cell_type": "code",
   "execution_count": 10,
   "id": "41821e64",
   "metadata": {},
   "outputs": [],
   "source": [
    "y = df[\"Weight\"]  # вытаскивает(удаляет из таблицы) - мы должны спрогнозировать это значение\n",
    "df.drop(\"Weight\", axis=1, inplace=True)\n",
    "x = df"
   ]
  },
  {
   "cell_type": "code",
   "execution_count": 24,
   "id": "98a9d7c9",
   "metadata": {},
   "outputs": [
    {
     "data": {
      "text/plain": [
       "0        64\n",
       "1        56\n",
       "2        77\n",
       "3        87\n",
       "4        89\n",
       "       ... \n",
       "2106    131\n",
       "2107    133\n",
       "2108    133\n",
       "2109    133\n",
       "2110    133\n",
       "Name: Weight, Length: 2111, dtype: int32"
      ]
     },
     "execution_count": 24,
     "metadata": {},
     "output_type": "execute_result"
    }
   ],
   "source": [
    "#по какой то причине, несмотря на то, что у меня везде тип float64, при обучении почему то y считается как object, поэтому я преобразовала его в int\n",
    "y=y.astype('int') \n",
    "y"
   ]
  },
  {
   "cell_type": "code",
   "execution_count": 55,
   "id": "9d0d2459",
   "metadata": {},
   "outputs": [
    {
     "name": "stdout",
     "output_type": "stream",
     "text": [
      "1.0\n",
      "1.0\n",
      "1.0\n"
     ]
    }
   ],
   "source": [
    "x_train, x_test, y_train, y_test=train_test_split(x,y)\n",
    "dtc=DecisionTreeClassifier()\n",
    "\n",
    "dtc.fit(x,y)\n",
    "#dtc.fit(x_train, y_train)\n",
    "#dtc.fit(x_test, y_test)\n",
    "print(dtc.score(x_train,y_train)) # 1.0\n",
    "print(dtc.score(x_test,y_test)) # 1.0\n",
    "print(dtc.score(x,y)) #1.0"
   ]
  },
  {
   "cell_type": "code",
   "execution_count": 57,
   "id": "f32288c6",
   "metadata": {},
   "outputs": [
    {
     "name": "stdout",
     "output_type": "stream",
     "text": [
      "1.0\n",
      "1.0\n",
      "1.0\n"
     ]
    },
    {
     "name": "stderr",
     "output_type": "stream",
     "text": [
      "D:\\anac\\lib\\site-packages\\sklearn\\linear_model\\_logistic.py:814: ConvergenceWarning: lbfgs failed to converge (status=1):\n",
      "STOP: TOTAL NO. of ITERATIONS REACHED LIMIT.\n",
      "\n",
      "Increase the number of iterations (max_iter) or scale the data as shown in:\n",
      "    https://scikit-learn.org/stable/modules/preprocessing.html\n",
      "Please also refer to the documentation for alternative solver options:\n",
      "    https://scikit-learn.org/stable/modules/linear_model.html#logistic-regression\n",
      "  n_iter_i = _check_optimize_result(\n"
     ]
    }
   ],
   "source": [
    "lr=LogisticRegression(max_iter=1000) # я брала max_iter =1000, 1500, 2000, 3000 результат особо не менялся, при большем кол-ве итераций уже долго считается \n",
    "\n",
    "lr.fit(x, y) \n",
    "#dtc.fit(x_train, y_train)\n",
    "#dtc.fit(x_test, y_test)\n",
    "print(dtc.score(x_train,y_train)) # 1.0\n",
    "print(dtc.score(x_test,y_test)) # 1.0\n",
    "print(dtc.score(x,y)) #1.0"
   ]
  },
  {
   "cell_type": "code",
   "execution_count": 65,
   "id": "7881ab03",
   "metadata": {},
   "outputs": [],
   "source": [
    "rfc = RandomForestClassifier(max_depth=10, n_estimators=200, max_samples=None) \n",
    "# ------------------------train--------------------test---------------------x,y----------\n",
    "# max_depth=5        0.43714466203411245        0.6363636363636364          0.4109848484848485\n",
    "# max_depth=10       0.9576753000631711         0.9981060606060606          0.9393939393939394"
   ]
  },
  {
   "cell_type": "code",
   "execution_count": 66,
   "id": "44af4e0c",
   "metadata": {},
   "outputs": [
    {
     "name": "stdout",
     "output_type": "stream",
     "text": [
      "0.950726468730259\n",
      "0.9478919943154903\n",
      "0.9393939393939394\n"
     ]
    }
   ],
   "source": [
    "#rfc.fit(x_train, y_train)\n",
    "#rfc.fit(x_test, y_test)\n",
    "rfc.fit(x,y)\n",
    "print(rfc.score(x_train, y_train))\n",
    "print(rfc.score(x, y))\n",
    "print(rfc.score(x_test, y_test))\n"
   ]
  },
  {
   "cell_type": "code",
   "execution_count": 48,
   "id": "4125df68",
   "metadata": {},
   "outputs": [
    {
     "name": "stderr",
     "output_type": "stream",
     "text": [
      "learning rate is greater than 1. You probably need to decrease learning rate.\n",
      "learning rate is greater than 1. You probably need to decrease learning rate.\n",
      "learning rate is greater than 1. You probably need to decrease learning rate.\n"
     ]
    },
    {
     "name": "stdout",
     "output_type": "stream",
     "text": [
      "0:\tlearn: 4.6382948\ttotal: 420ms\tremaining: 2m 5s\n",
      "1:\tlearn: 3.4944694\ttotal: 581ms\tremaining: 1m 26s\n",
      "2:\tlearn: 3.1258093\ttotal: 723ms\tremaining: 1m 11s\n",
      "3:\tlearn: 2.8452599\ttotal: 860ms\tremaining: 1m 3s\n",
      "4:\tlearn: 2.3334395\ttotal: 1s\tremaining: 59.2s\n",
      "5:\tlearn: 2.0973788\ttotal: 1.13s\tremaining: 55.2s\n",
      "6:\tlearn: 1.8675624\ttotal: 1.24s\tremaining: 52s\n",
      "7:\tlearn: 1.7138613\ttotal: 1.35s\tremaining: 49.3s\n",
      "8:\tlearn: 1.5986500\ttotal: 1.5s\tremaining: 48.6s\n",
      "9:\tlearn: 1.4869481\ttotal: 1.64s\tremaining: 47.5s\n",
      "10:\tlearn: 1.3875154\ttotal: 1.76s\tremaining: 46.1s\n",
      "11:\tlearn: 1.3132925\ttotal: 1.86s\tremaining: 44.7s\n",
      "12:\tlearn: 1.2164724\ttotal: 1.98s\tremaining: 43.6s\n",
      "13:\tlearn: 1.1427977\ttotal: 2.08s\tremaining: 42.6s\n",
      "14:\tlearn: 1.0959109\ttotal: 2.19s\tremaining: 41.6s\n",
      "15:\tlearn: 1.0385913\ttotal: 2.31s\tremaining: 40.9s\n",
      "16:\tlearn: 0.9882726\ttotal: 2.41s\tremaining: 40.1s\n",
      "17:\tlearn: 0.9456316\ttotal: 2.54s\tremaining: 39.8s\n",
      "18:\tlearn: 0.9108615\ttotal: 2.67s\tremaining: 39.5s\n",
      "19:\tlearn: 0.8607477\ttotal: 2.78s\tremaining: 38.9s\n",
      "20:\tlearn: 0.8165196\ttotal: 2.89s\tremaining: 38.4s\n",
      "21:\tlearn: 0.7873006\ttotal: 3.02s\tremaining: 38.1s\n",
      "22:\tlearn: 0.7760035\ttotal: 3.12s\tremaining: 37.6s\n",
      "23:\tlearn: 0.7478689\ttotal: 3.23s\tremaining: 37.2s\n",
      "24:\tlearn: 0.7164401\ttotal: 3.34s\tremaining: 36.7s\n",
      "25:\tlearn: 0.6889085\ttotal: 3.44s\tremaining: 36.3s\n",
      "26:\tlearn: 0.6649892\ttotal: 3.55s\tremaining: 35.9s\n",
      "27:\tlearn: 0.6435311\ttotal: 3.67s\tremaining: 35.6s\n",
      "28:\tlearn: 0.6282117\ttotal: 3.77s\tremaining: 35.3s\n",
      "29:\tlearn: 0.6045244\ttotal: 3.88s\tremaining: 34.9s\n",
      "30:\tlearn: 0.5826373\ttotal: 3.99s\tremaining: 34.6s\n",
      "31:\tlearn: 0.5609920\ttotal: 4.09s\tremaining: 34.3s\n",
      "32:\tlearn: 0.5362627\ttotal: 4.22s\tremaining: 34.2s\n",
      "33:\tlearn: 0.5230529\ttotal: 4.33s\tremaining: 33.9s\n",
      "34:\tlearn: 0.5019327\ttotal: 4.44s\tremaining: 33.6s\n",
      "35:\tlearn: 0.4734977\ttotal: 4.56s\tremaining: 33.4s\n",
      "36:\tlearn: 0.4611382\ttotal: 4.67s\tremaining: 33.2s\n",
      "37:\tlearn: 0.4505256\ttotal: 4.78s\tremaining: 33s\n",
      "38:\tlearn: 0.4352713\ttotal: 4.89s\tremaining: 32.7s\n",
      "39:\tlearn: 0.4312531\ttotal: 5.01s\tremaining: 32.6s\n",
      "40:\tlearn: 0.4199239\ttotal: 5.12s\tremaining: 32.3s\n",
      "41:\tlearn: 0.4119634\ttotal: 5.23s\tremaining: 32.1s\n",
      "42:\tlearn: 0.4026534\ttotal: 5.33s\tremaining: 31.9s\n",
      "43:\tlearn: 0.3878099\ttotal: 5.44s\tremaining: 31.7s\n",
      "44:\tlearn: 0.3704123\ttotal: 5.56s\tremaining: 31.5s\n",
      "45:\tlearn: 0.3581675\ttotal: 5.72s\tremaining: 31.6s\n",
      "46:\tlearn: 0.3494098\ttotal: 5.85s\tremaining: 31.5s\n",
      "47:\tlearn: 0.3375912\ttotal: 5.97s\tremaining: 31.3s\n",
      "48:\tlearn: 0.3272585\ttotal: 6.08s\tremaining: 31.1s\n",
      "49:\tlearn: 0.3196953\ttotal: 6.19s\tremaining: 31s\n",
      "50:\tlearn: 0.3138138\ttotal: 6.3s\tremaining: 30.7s\n",
      "51:\tlearn: 0.3025225\ttotal: 6.41s\tremaining: 30.6s\n",
      "52:\tlearn: 0.2953283\ttotal: 6.52s\tremaining: 30.4s\n",
      "53:\tlearn: 0.2888464\ttotal: 6.63s\tremaining: 30.2s\n",
      "54:\tlearn: 0.2834706\ttotal: 6.74s\tremaining: 30s\n",
      "55:\tlearn: 0.2767933\ttotal: 6.85s\tremaining: 29.8s\n",
      "56:\tlearn: 0.2727633\ttotal: 6.95s\tremaining: 29.6s\n",
      "57:\tlearn: 0.2675230\ttotal: 7.06s\tremaining: 29.5s\n",
      "58:\tlearn: 0.2591197\ttotal: 7.19s\tremaining: 29.4s\n",
      "59:\tlearn: 0.2525787\ttotal: 7.29s\tremaining: 29.2s\n",
      "60:\tlearn: 0.2492091\ttotal: 7.38s\tremaining: 28.9s\n",
      "61:\tlearn: 0.2428002\ttotal: 7.49s\tremaining: 28.7s\n",
      "62:\tlearn: 0.2380030\ttotal: 7.6s\tremaining: 28.6s\n",
      "63:\tlearn: 0.2337858\ttotal: 7.7s\tremaining: 28.4s\n",
      "64:\tlearn: 0.2287396\ttotal: 7.8s\tremaining: 28.2s\n",
      "65:\tlearn: 0.2231294\ttotal: 7.91s\tremaining: 28s\n",
      "66:\tlearn: 0.2184653\ttotal: 8.02s\tremaining: 27.9s\n",
      "67:\tlearn: 0.2153082\ttotal: 8.13s\tremaining: 27.7s\n",
      "68:\tlearn: 0.2099549\ttotal: 8.23s\tremaining: 27.6s\n",
      "69:\tlearn: 0.2044285\ttotal: 8.34s\tremaining: 27.4s\n",
      "70:\tlearn: 0.1998602\ttotal: 8.45s\tremaining: 27.3s\n",
      "71:\tlearn: 0.1953869\ttotal: 8.56s\tremaining: 27.1s\n",
      "72:\tlearn: 0.1930914\ttotal: 8.67s\tremaining: 26.9s\n",
      "73:\tlearn: 0.1905599\ttotal: 8.77s\tremaining: 26.8s\n",
      "74:\tlearn: 0.1894107\ttotal: 8.89s\tremaining: 26.7s\n",
      "75:\tlearn: 0.1848738\ttotal: 8.99s\tremaining: 26.5s\n",
      "76:\tlearn: 0.1816959\ttotal: 9.1s\tremaining: 26.4s\n",
      "77:\tlearn: 0.1768340\ttotal: 9.21s\tremaining: 26.2s\n",
      "78:\tlearn: 0.1738561\ttotal: 9.38s\tremaining: 26.3s\n",
      "79:\tlearn: 0.1720380\ttotal: 9.55s\tremaining: 26.3s\n",
      "80:\tlearn: 0.1706276\ttotal: 9.67s\tremaining: 26.1s\n",
      "81:\tlearn: 0.1664132\ttotal: 9.78s\tremaining: 26s\n",
      "82:\tlearn: 0.1640969\ttotal: 9.89s\tremaining: 25.9s\n",
      "83:\tlearn: 0.1620740\ttotal: 10s\tremaining: 25.7s\n",
      "84:\tlearn: 0.1601078\ttotal: 10.1s\tremaining: 25.6s\n",
      "85:\tlearn: 0.1568419\ttotal: 10.2s\tremaining: 25.5s\n",
      "86:\tlearn: 0.1548366\ttotal: 10.4s\tremaining: 25.4s\n",
      "87:\tlearn: 0.1529537\ttotal: 10.5s\tremaining: 25.2s\n",
      "88:\tlearn: 0.1511037\ttotal: 10.6s\tremaining: 25.2s\n",
      "89:\tlearn: 0.1498477\ttotal: 10.8s\tremaining: 25.2s\n",
      "90:\tlearn: 0.1466712\ttotal: 10.9s\tremaining: 25.1s\n",
      "91:\tlearn: 0.1432634\ttotal: 11.1s\tremaining: 25s\n",
      "92:\tlearn: 0.1416610\ttotal: 11.2s\tremaining: 24.9s\n",
      "93:\tlearn: 0.1397600\ttotal: 11.3s\tremaining: 24.8s\n",
      "94:\tlearn: 0.1363558\ttotal: 11.5s\tremaining: 24.7s\n",
      "95:\tlearn: 0.1349874\ttotal: 11.6s\tremaining: 24.6s\n",
      "96:\tlearn: 0.1336148\ttotal: 11.7s\tremaining: 24.5s\n",
      "97:\tlearn: 0.1309510\ttotal: 11.8s\tremaining: 24.4s\n",
      "98:\tlearn: 0.1289045\ttotal: 11.9s\tremaining: 24.2s\n",
      "99:\tlearn: 0.1279805\ttotal: 12.1s\tremaining: 24.1s\n",
      "100:\tlearn: 0.1260145\ttotal: 12.2s\tremaining: 24s\n",
      "101:\tlearn: 0.1246359\ttotal: 12.3s\tremaining: 23.9s\n",
      "102:\tlearn: 0.1235018\ttotal: 12.4s\tremaining: 23.8s\n",
      "103:\tlearn: 0.1218918\ttotal: 12.5s\tremaining: 23.6s\n",
      "104:\tlearn: 0.1205029\ttotal: 12.6s\tremaining: 23.5s\n",
      "105:\tlearn: 0.1193784\ttotal: 12.8s\tremaining: 23.4s\n",
      "106:\tlearn: 0.1184275\ttotal: 12.9s\tremaining: 23.2s\n",
      "107:\tlearn: 0.1171693\ttotal: 13s\tremaining: 23.1s\n",
      "108:\tlearn: 0.1158189\ttotal: 13.1s\tremaining: 23s\n",
      "109:\tlearn: 0.1141636\ttotal: 13.2s\tremaining: 22.9s\n",
      "110:\tlearn: 0.1127620\ttotal: 13.3s\tremaining: 22.7s\n",
      "111:\tlearn: 0.1113944\ttotal: 13.5s\tremaining: 22.6s\n",
      "112:\tlearn: 0.1104839\ttotal: 13.6s\tremaining: 22.5s\n",
      "113:\tlearn: 0.1092716\ttotal: 13.7s\tremaining: 22.3s\n",
      "114:\tlearn: 0.1082405\ttotal: 13.8s\tremaining: 22.2s\n",
      "115:\tlearn: 0.1073950\ttotal: 13.9s\tremaining: 22.1s\n",
      "116:\tlearn: 0.1063531\ttotal: 14s\tremaining: 22s\n",
      "117:\tlearn: 0.1054927\ttotal: 14.2s\tremaining: 21.9s\n",
      "118:\tlearn: 0.1046565\ttotal: 14.3s\tremaining: 21.7s\n",
      "119:\tlearn: 0.1033994\ttotal: 14.4s\tremaining: 21.6s\n",
      "120:\tlearn: 0.1027103\ttotal: 14.5s\tremaining: 21.4s\n",
      "121:\tlearn: 0.1017316\ttotal: 14.6s\tremaining: 21.3s\n",
      "122:\tlearn: 0.1007795\ttotal: 14.7s\tremaining: 21.2s\n",
      "123:\tlearn: 0.0999038\ttotal: 14.8s\tremaining: 21s\n",
      "124:\tlearn: 0.0991833\ttotal: 14.9s\tremaining: 20.9s\n",
      "125:\tlearn: 0.0977278\ttotal: 15s\tremaining: 20.8s\n",
      "126:\tlearn: 0.0969878\ttotal: 15.1s\tremaining: 20.6s\n",
      "127:\tlearn: 0.0961367\ttotal: 15.3s\tremaining: 20.5s\n",
      "128:\tlearn: 0.0953568\ttotal: 15.4s\tremaining: 20.4s\n",
      "129:\tlearn: 0.0943061\ttotal: 15.5s\tremaining: 20.2s\n",
      "130:\tlearn: 0.0933951\ttotal: 15.6s\tremaining: 20.1s\n",
      "131:\tlearn: 0.0927809\ttotal: 15.7s\tremaining: 20s\n",
      "132:\tlearn: 0.0917320\ttotal: 15.8s\tremaining: 19.8s\n",
      "133:\tlearn: 0.0906482\ttotal: 15.9s\tremaining: 19.7s\n",
      "134:\tlearn: 0.0894416\ttotal: 16s\tremaining: 19.6s\n",
      "135:\tlearn: 0.0881299\ttotal: 16.1s\tremaining: 19.4s\n",
      "136:\tlearn: 0.0875453\ttotal: 16.2s\tremaining: 19.3s\n",
      "137:\tlearn: 0.0867469\ttotal: 16.3s\tremaining: 19.2s\n",
      "138:\tlearn: 0.0862419\ttotal: 16.4s\tremaining: 19s\n",
      "139:\tlearn: 0.0852555\ttotal: 16.6s\tremaining: 18.9s\n",
      "140:\tlearn: 0.0843754\ttotal: 16.7s\tremaining: 18.9s\n",
      "141:\tlearn: 0.0840533\ttotal: 16.8s\tremaining: 18.7s\n",
      "142:\tlearn: 0.0832791\ttotal: 17s\tremaining: 18.6s\n",
      "143:\tlearn: 0.0825598\ttotal: 17.1s\tremaining: 18.5s\n",
      "144:\tlearn: 0.0821373\ttotal: 17.2s\tremaining: 18.4s\n",
      "145:\tlearn: 0.0815307\ttotal: 17.3s\tremaining: 18.3s\n",
      "146:\tlearn: 0.0805699\ttotal: 17.4s\tremaining: 18.1s\n",
      "147:\tlearn: 0.0802192\ttotal: 17.5s\tremaining: 18s\n",
      "148:\tlearn: 0.0792775\ttotal: 17.6s\tremaining: 17.9s\n",
      "149:\tlearn: 0.0786389\ttotal: 17.8s\tremaining: 17.8s\n",
      "150:\tlearn: 0.0778877\ttotal: 17.9s\tremaining: 17.6s\n",
      "151:\tlearn: 0.0770568\ttotal: 18s\tremaining: 17.5s\n",
      "152:\tlearn: 0.0763287\ttotal: 18.1s\tremaining: 17.4s\n",
      "153:\tlearn: 0.0756841\ttotal: 18.2s\tremaining: 17.2s\n",
      "154:\tlearn: 0.0749338\ttotal: 18.3s\tremaining: 17.1s\n",
      "155:\tlearn: 0.0746989\ttotal: 18.4s\tremaining: 17s\n",
      "156:\tlearn: 0.0738863\ttotal: 18.5s\tremaining: 16.9s\n",
      "157:\tlearn: 0.0726415\ttotal: 18.6s\tremaining: 16.7s\n",
      "158:\tlearn: 0.0721155\ttotal: 18.7s\tremaining: 16.6s\n",
      "159:\tlearn: 0.0714795\ttotal: 18.9s\tremaining: 16.5s\n",
      "160:\tlearn: 0.0708331\ttotal: 19s\tremaining: 16.4s\n",
      "161:\tlearn: 0.0702030\ttotal: 19.1s\tremaining: 16.3s\n"
     ]
    },
    {
     "name": "stdout",
     "output_type": "stream",
     "text": [
      "162:\tlearn: 0.0697508\ttotal: 19.2s\tremaining: 16.1s\n",
      "163:\tlearn: 0.0692763\ttotal: 19.3s\tremaining: 16s\n",
      "164:\tlearn: 0.0686974\ttotal: 19.4s\tremaining: 15.9s\n",
      "165:\tlearn: 0.0681624\ttotal: 19.5s\tremaining: 15.8s\n",
      "166:\tlearn: 0.0674424\ttotal: 19.6s\tremaining: 15.6s\n",
      "167:\tlearn: 0.0667792\ttotal: 19.7s\tremaining: 15.5s\n",
      "168:\tlearn: 0.0662235\ttotal: 19.8s\tremaining: 15.4s\n",
      "169:\tlearn: 0.0655597\ttotal: 20s\tremaining: 15.3s\n",
      "170:\tlearn: 0.0652242\ttotal: 20.1s\tremaining: 15.1s\n",
      "171:\tlearn: 0.0648003\ttotal: 20.2s\tremaining: 15s\n",
      "172:\tlearn: 0.0642447\ttotal: 20.3s\tremaining: 14.9s\n",
      "173:\tlearn: 0.0637539\ttotal: 20.4s\tremaining: 14.8s\n",
      "174:\tlearn: 0.0633183\ttotal: 20.5s\tremaining: 14.7s\n",
      "175:\tlearn: 0.0628611\ttotal: 20.7s\tremaining: 14.6s\n",
      "176:\tlearn: 0.0622108\ttotal: 20.8s\tremaining: 14.5s\n",
      "177:\tlearn: 0.0618719\ttotal: 20.9s\tremaining: 14.3s\n",
      "178:\tlearn: 0.0616179\ttotal: 21s\tremaining: 14.2s\n",
      "179:\tlearn: 0.0610822\ttotal: 21.1s\tremaining: 14.1s\n",
      "180:\tlearn: 0.0604073\ttotal: 21.3s\tremaining: 14s\n",
      "181:\tlearn: 0.0598967\ttotal: 21.4s\tremaining: 13.8s\n",
      "182:\tlearn: 0.0592987\ttotal: 21.5s\tremaining: 13.7s\n",
      "183:\tlearn: 0.0587736\ttotal: 21.6s\tremaining: 13.6s\n",
      "184:\tlearn: 0.0584409\ttotal: 21.7s\tremaining: 13.5s\n",
      "185:\tlearn: 0.0579584\ttotal: 21.8s\tremaining: 13.4s\n",
      "186:\tlearn: 0.0576861\ttotal: 21.9s\tremaining: 13.2s\n",
      "187:\tlearn: 0.0574826\ttotal: 22s\tremaining: 13.1s\n",
      "188:\tlearn: 0.0571099\ttotal: 22.1s\tremaining: 13s\n",
      "189:\tlearn: 0.0567336\ttotal: 22.2s\tremaining: 12.9s\n",
      "190:\tlearn: 0.0563225\ttotal: 22.4s\tremaining: 12.8s\n",
      "191:\tlearn: 0.0560673\ttotal: 22.5s\tremaining: 12.7s\n",
      "192:\tlearn: 0.0556605\ttotal: 22.7s\tremaining: 12.6s\n",
      "193:\tlearn: 0.0553562\ttotal: 22.8s\tremaining: 12.5s\n",
      "194:\tlearn: 0.0550563\ttotal: 22.9s\tremaining: 12.3s\n",
      "195:\tlearn: 0.0547288\ttotal: 23s\tremaining: 12.2s\n",
      "196:\tlearn: 0.0543772\ttotal: 23.1s\tremaining: 12.1s\n",
      "197:\tlearn: 0.0540190\ttotal: 23.2s\tremaining: 12s\n",
      "198:\tlearn: 0.0536618\ttotal: 23.3s\tremaining: 11.8s\n",
      "199:\tlearn: 0.0533717\ttotal: 23.5s\tremaining: 11.7s\n",
      "200:\tlearn: 0.0532318\ttotal: 23.6s\tremaining: 11.6s\n",
      "201:\tlearn: 0.0529402\ttotal: 23.7s\tremaining: 11.5s\n",
      "202:\tlearn: 0.0527064\ttotal: 23.8s\tremaining: 11.4s\n",
      "203:\tlearn: 0.0524017\ttotal: 23.9s\tremaining: 11.2s\n",
      "204:\tlearn: 0.0520911\ttotal: 24s\tremaining: 11.1s\n",
      "205:\tlearn: 0.0518454\ttotal: 24.1s\tremaining: 11s\n",
      "206:\tlearn: 0.0514489\ttotal: 24.2s\tremaining: 10.9s\n",
      "207:\tlearn: 0.0512246\ttotal: 24.3s\tremaining: 10.8s\n",
      "208:\tlearn: 0.0510645\ttotal: 24.4s\tremaining: 10.6s\n",
      "209:\tlearn: 0.0508598\ttotal: 24.6s\tremaining: 10.5s\n",
      "210:\tlearn: 0.0506241\ttotal: 24.7s\tremaining: 10.4s\n",
      "211:\tlearn: 0.0501642\ttotal: 24.8s\tremaining: 10.3s\n",
      "212:\tlearn: 0.0499667\ttotal: 24.9s\tremaining: 10.2s\n",
      "213:\tlearn: 0.0497542\ttotal: 25.1s\tremaining: 10.1s\n",
      "214:\tlearn: 0.0492695\ttotal: 25.2s\tremaining: 9.95s\n",
      "215:\tlearn: 0.0490412\ttotal: 25.3s\tremaining: 9.84s\n",
      "216:\tlearn: 0.0488172\ttotal: 25.4s\tremaining: 9.72s\n",
      "217:\tlearn: 0.0486676\ttotal: 25.5s\tremaining: 9.6s\n",
      "218:\tlearn: 0.0484321\ttotal: 25.7s\tremaining: 9.49s\n",
      "219:\tlearn: 0.0481953\ttotal: 25.8s\tremaining: 9.37s\n",
      "220:\tlearn: 0.0480266\ttotal: 25.9s\tremaining: 9.25s\n",
      "221:\tlearn: 0.0478682\ttotal: 26s\tremaining: 9.14s\n",
      "222:\tlearn: 0.0475216\ttotal: 26.1s\tremaining: 9.02s\n",
      "223:\tlearn: 0.0473167\ttotal: 26.2s\tremaining: 8.9s\n",
      "224:\tlearn: 0.0470588\ttotal: 26.3s\tremaining: 8.78s\n",
      "225:\tlearn: 0.0467589\ttotal: 26.5s\tremaining: 8.66s\n",
      "226:\tlearn: 0.0464929\ttotal: 26.6s\tremaining: 8.55s\n",
      "227:\tlearn: 0.0462100\ttotal: 26.7s\tremaining: 8.43s\n",
      "228:\tlearn: 0.0459490\ttotal: 26.9s\tremaining: 8.33s\n",
      "229:\tlearn: 0.0456639\ttotal: 27s\tremaining: 8.22s\n",
      "230:\tlearn: 0.0455389\ttotal: 27.1s\tremaining: 8.1s\n",
      "231:\tlearn: 0.0453911\ttotal: 27.2s\tremaining: 7.98s\n",
      "232:\tlearn: 0.0451233\ttotal: 27.4s\tremaining: 7.87s\n",
      "233:\tlearn: 0.0447948\ttotal: 27.5s\tremaining: 7.75s\n",
      "234:\tlearn: 0.0445792\ttotal: 27.6s\tremaining: 7.63s\n",
      "235:\tlearn: 0.0442796\ttotal: 27.7s\tremaining: 7.51s\n",
      "236:\tlearn: 0.0439635\ttotal: 27.8s\tremaining: 7.39s\n",
      "237:\tlearn: 0.0436845\ttotal: 27.9s\tremaining: 7.27s\n",
      "238:\tlearn: 0.0434691\ttotal: 28s\tremaining: 7.16s\n",
      "239:\tlearn: 0.0432406\ttotal: 28.2s\tremaining: 7.04s\n",
      "240:\tlearn: 0.0430302\ttotal: 28.3s\tremaining: 6.92s\n",
      "241:\tlearn: 0.0427465\ttotal: 28.4s\tremaining: 6.8s\n",
      "242:\tlearn: 0.0426140\ttotal: 28.5s\tremaining: 6.68s\n",
      "243:\tlearn: 0.0423641\ttotal: 28.6s\tremaining: 6.56s\n",
      "244:\tlearn: 0.0421785\ttotal: 28.7s\tremaining: 6.44s\n",
      "245:\tlearn: 0.0420281\ttotal: 28.8s\tremaining: 6.33s\n",
      "246:\tlearn: 0.0418069\ttotal: 28.9s\tremaining: 6.21s\n",
      "247:\tlearn: 0.0415332\ttotal: 29s\tremaining: 6.09s\n",
      "248:\tlearn: 0.0414024\ttotal: 29.2s\tremaining: 5.98s\n",
      "249:\tlearn: 0.0412722\ttotal: 29.3s\tremaining: 5.86s\n",
      "250:\tlearn: 0.0410537\ttotal: 29.4s\tremaining: 5.74s\n",
      "251:\tlearn: 0.0408060\ttotal: 29.5s\tremaining: 5.63s\n",
      "252:\tlearn: 0.0405949\ttotal: 29.7s\tremaining: 5.51s\n",
      "253:\tlearn: 0.0403924\ttotal: 29.8s\tremaining: 5.39s\n",
      "254:\tlearn: 0.0401326\ttotal: 29.9s\tremaining: 5.27s\n",
      "255:\tlearn: 0.0399645\ttotal: 30s\tremaining: 5.15s\n",
      "256:\tlearn: 0.0397897\ttotal: 30.1s\tremaining: 5.03s\n",
      "257:\tlearn: 0.0396492\ttotal: 30.2s\tremaining: 4.92s\n",
      "258:\tlearn: 0.0395526\ttotal: 30.4s\tremaining: 4.8s\n",
      "259:\tlearn: 0.0393967\ttotal: 30.5s\tremaining: 4.69s\n",
      "260:\tlearn: 0.0392325\ttotal: 30.6s\tremaining: 4.57s\n",
      "261:\tlearn: 0.0390418\ttotal: 30.7s\tremaining: 4.45s\n",
      "262:\tlearn: 0.0388653\ttotal: 30.8s\tremaining: 4.33s\n",
      "263:\tlearn: 0.0387328\ttotal: 30.9s\tremaining: 4.22s\n",
      "264:\tlearn: 0.0386170\ttotal: 31s\tremaining: 4.1s\n",
      "265:\tlearn: 0.0383814\ttotal: 31.1s\tremaining: 3.98s\n",
      "266:\tlearn: 0.0382403\ttotal: 31.2s\tremaining: 3.86s\n",
      "267:\tlearn: 0.0379939\ttotal: 31.3s\tremaining: 3.74s\n",
      "268:\tlearn: 0.0378799\ttotal: 31.4s\tremaining: 3.62s\n",
      "269:\tlearn: 0.0377374\ttotal: 31.6s\tremaining: 3.51s\n",
      "270:\tlearn: 0.0375524\ttotal: 31.7s\tremaining: 3.39s\n",
      "271:\tlearn: 0.0373656\ttotal: 31.8s\tremaining: 3.27s\n",
      "272:\tlearn: 0.0372593\ttotal: 31.9s\tremaining: 3.16s\n",
      "273:\tlearn: 0.0371223\ttotal: 32s\tremaining: 3.04s\n",
      "274:\tlearn: 0.0370575\ttotal: 32.1s\tremaining: 2.92s\n",
      "275:\tlearn: 0.0368555\ttotal: 32.2s\tremaining: 2.8s\n",
      "276:\tlearn: 0.0367709\ttotal: 32.3s\tremaining: 2.68s\n",
      "277:\tlearn: 0.0365915\ttotal: 32.4s\tremaining: 2.57s\n",
      "278:\tlearn: 0.0364206\ttotal: 32.5s\tremaining: 2.45s\n",
      "279:\tlearn: 0.0362964\ttotal: 32.7s\tremaining: 2.33s\n",
      "280:\tlearn: 0.0361491\ttotal: 32.8s\tremaining: 2.22s\n",
      "281:\tlearn: 0.0359914\ttotal: 32.9s\tremaining: 2.1s\n",
      "282:\tlearn: 0.0358161\ttotal: 33s\tremaining: 1.98s\n",
      "283:\tlearn: 0.0357044\ttotal: 33.1s\tremaining: 1.87s\n",
      "284:\tlearn: 0.0355669\ttotal: 33.3s\tremaining: 1.75s\n",
      "285:\tlearn: 0.0353468\ttotal: 33.4s\tremaining: 1.63s\n",
      "286:\tlearn: 0.0351951\ttotal: 33.5s\tremaining: 1.52s\n",
      "287:\tlearn: 0.0350314\ttotal: 33.6s\tremaining: 1.4s\n",
      "288:\tlearn: 0.0349685\ttotal: 33.7s\tremaining: 1.28s\n",
      "289:\tlearn: 0.0347539\ttotal: 33.8s\tremaining: 1.17s\n",
      "290:\tlearn: 0.0346476\ttotal: 33.9s\tremaining: 1.05s\n",
      "291:\tlearn: 0.0345137\ttotal: 34s\tremaining: 933ms\n",
      "292:\tlearn: 0.0343873\ttotal: 34.1s\tremaining: 816ms\n",
      "293:\tlearn: 0.0342332\ttotal: 34.3s\tremaining: 699ms\n",
      "294:\tlearn: 0.0340960\ttotal: 34.4s\tremaining: 582ms\n",
      "295:\tlearn: 0.0339767\ttotal: 34.5s\tremaining: 466ms\n",
      "296:\tlearn: 0.0338281\ttotal: 34.6s\tremaining: 349ms\n",
      "297:\tlearn: 0.0337234\ttotal: 34.7s\tremaining: 233ms\n",
      "298:\tlearn: 0.0336013\ttotal: 34.8s\tremaining: 116ms\n",
      "299:\tlearn: 0.0335211\ttotal: 34.9s\tremaining: 0us\n",
      "Catboost on train set:  1.0\n"
     ]
    }
   ],
   "source": [
    "cat = CatBoostClassifier(n_estimators=300, max_depth=, learning_rate=1.5)\n",
    "cat.fit(x_train, y_train)\n",
    "print('Catboost on train set: ', cat.score(x_train, y_train))"
   ]
  },
  {
   "cell_type": "code",
   "execution_count": 82,
   "id": "2feac4d8",
   "metadata": {},
   "outputs": [
    {
     "name": "stdout",
     "output_type": "stream",
     "text": [
      "Vote on train set:  1.0\n",
      "Vote on test set:  0.3806818181818182\n"
     ]
    },
    {
     "name": "stderr",
     "output_type": "stream",
     "text": [
      "D:\\anac\\lib\\site-packages\\sklearn\\linear_model\\_logistic.py:814: ConvergenceWarning: lbfgs failed to converge (status=1):\n",
      "STOP: TOTAL NO. of ITERATIONS REACHED LIMIT.\n",
      "\n",
      "Increase the number of iterations (max_iter) or scale the data as shown in:\n",
      "    https://scikit-learn.org/stable/modules/preprocessing.html\n",
      "Please also refer to the documentation for alternative solver options:\n",
      "    https://scikit-learn.org/stable/modules/linear_model.html#logistic-regression\n",
      "  n_iter_i = _check_optimize_result(\n"
     ]
    }
   ],
   "source": [
    "vote = VotingClassifier(estimators=[('logreg', lr), ('dtc', dtc)], voting='soft')\n",
    "vote.fit(x_train, y_train)\n",
    "print('Vote on train set: ', vote.score(x_train, y_train))\n",
    "print('Vote on test set: ', vote.score(x_test, y_test))"
   ]
  },
  {
   "cell_type": "code",
   "execution_count": 69,
   "id": "9ba7b8d0",
   "metadata": {},
   "outputs": [
    {
     "name": "stdout",
     "output_type": "stream",
     "text": [
      "0.9936828806064435\n",
      "0.9962121212121212\n",
      "0.9943154902889626\n"
     ]
    }
   ],
   "source": [
    "bag = BaggingClassifier(dtc, n_estimators=100, max_features=0.6, max_samples=0.5)\n",
    "#bag.fit(x_train, y_train)\n",
    "#bag.fit(x_test, y_test)\n",
    "bag.fit(x, y)\n",
    "\n",
    "print( bag.score(x_train, y_train))\n",
    "print( bag.score(x_test, y_test))\n",
    "print( bag.score(x, y))\n",
    "#тут улучшать нечего, итак хороший результат 0.99..."
   ]
  },
  {
   "cell_type": "code",
   "execution_count": 72,
   "id": "df92c8c0",
   "metadata": {},
   "outputs": [
    {
     "name": "stdout",
     "output_type": "stream",
     "text": [
      "0.9971491567446016\n",
      "0.9965906561935879\n",
      "0.9970133807624019\n"
     ]
    }
   ],
   "source": [
    "r=RandomForestRegressor(n_estimators=100, max_depth=10)\n",
    "\n",
    "#r.fit(x_train, y_train)\n",
    "#r.fit(x_test, y_test)\n",
    "r.fit(x, y)\n",
    "\n",
    "print( r.score(x_train, y_train))\n",
    "print( r.score(x_test, y_test))\n",
    "print( r.score(x, y))\n",
    "# n_estimators=100, max_depth=5    0.9834830806881444       0.9774426207693254            0.9820108836053946\n",
    "#при n_estimators=10, max_depth=10 результат 0.99\n",
    "# при n_estimators=100, max_depth=10 тоже примерно 0.99"
   ]
  },
  {
   "cell_type": "code",
   "execution_count": 79,
   "id": "a4d8b3f6",
   "metadata": {},
   "outputs": [
    {
     "name": "stdout",
     "output_type": "stream",
     "text": [
      "0.9984232708978364\n",
      "0.9977538390032111\n",
      "0.9982600493570091\n"
     ]
    }
   ],
   "source": [
    "b=BaggingRegressor(n_estimators=100)\n",
    "\n",
    "#b.fit(x_train, y_train)\n",
    "#b.fit(x_test, y_test)\n",
    "b.fit(x, y)\n",
    "\n",
    "print( b.score(x_train, y_train))\n",
    "print( b.score(x_test, y_test))\n",
    "print( b.score(x, y))\n",
    "#n_estimators 10, 50, 100 результат всегда примерно 0.99"
   ]
  },
  {
   "cell_type": "code",
   "execution_count": null,
   "id": "47111597",
   "metadata": {},
   "outputs": [],
   "source": []
  }
 ],
 "metadata": {
  "kernelspec": {
   "display_name": "Python 3 (ipykernel)",
   "language": "python",
   "name": "python3"
  },
  "language_info": {
   "codemirror_mode": {
    "name": "ipython",
    "version": 3
   },
   "file_extension": ".py",
   "mimetype": "text/x-python",
   "name": "python",
   "nbconvert_exporter": "python",
   "pygments_lexer": "ipython3",
   "version": "3.9.13"
  }
 },
 "nbformat": 4,
 "nbformat_minor": 5
}
